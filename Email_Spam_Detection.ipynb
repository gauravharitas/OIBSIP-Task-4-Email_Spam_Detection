{
 "cells": [
  {
   "cell_type": "markdown",
   "id": "aa8055db",
   "metadata": {},
   "source": [
    "# Author : Gaurav Haritas\n",
    "\n",
    "Oasis Infobytes : Data Science Internship\n",
    "\n",
    "# Task-4 : Email Spam Detection with Machine Learning\n",
    "\n",
    "We’ve all been the recipient of spam emails before. Spam mail, or junk mail, is a type of email that is sent to a massive number of users at one time, frequently containing cryptic messages, scams, or most dangerously, phishing content.\n",
    "\n",
    "In this Project, we use python to build an email spam detector, then we use machine learning to train the spam detector to recognize and classify emails into spam and non-spam.\n",
    "\n",
    "Machine learning Model: This method involves using machine learning algorithms to analyze email data and identify patterns and characteristics of spam emails. The system then learns from this data and becomes more accurate over time.\n",
    "\n",
    "In this project we used vecotrisation, training and testing data, Feature Extraction, logistic regression and Label Encoder"
   ]
  },
  {
   "cell_type": "code",
   "execution_count": 50,
   "id": "9e4b1dbe",
   "metadata": {},
   "outputs": [],
   "source": [
    "import numpy as np\n",
    "import pandas as pd\n",
    "from sklearn.model_selection import train_test_split\n",
    "from sklearn.feature_extraction.text import TfidfVectorizer\n",
    "from sklearn.linear_model import LogisticRegression\n",
    "from sklearn.metrics import accuracy_score"
   ]
  },
  {
   "cell_type": "code",
   "execution_count": 51,
   "id": "d40a6d15",
   "metadata": {},
   "outputs": [],
   "source": [
    "df = pd.read_csv('spam.csv', encoding=\"ISO-8859-1\")\n"
   ]
  },
  {
   "cell_type": "code",
   "execution_count": 52,
   "id": "c12678f8",
   "metadata": {},
   "outputs": [
    {
     "data": {
      "text/html": [
       "<div>\n",
       "<style scoped>\n",
       "    .dataframe tbody tr th:only-of-type {\n",
       "        vertical-align: middle;\n",
       "    }\n",
       "\n",
       "    .dataframe tbody tr th {\n",
       "        vertical-align: top;\n",
       "    }\n",
       "\n",
       "    .dataframe thead th {\n",
       "        text-align: right;\n",
       "    }\n",
       "</style>\n",
       "<table border=\"1\" class=\"dataframe\">\n",
       "  <thead>\n",
       "    <tr style=\"text-align: right;\">\n",
       "      <th></th>\n",
       "      <th>v1</th>\n",
       "      <th>v2</th>\n",
       "      <th>Unnamed: 2</th>\n",
       "      <th>Unnamed: 3</th>\n",
       "      <th>Unnamed: 4</th>\n",
       "    </tr>\n",
       "  </thead>\n",
       "  <tbody>\n",
       "    <tr>\n",
       "      <th>0</th>\n",
       "      <td>ham</td>\n",
       "      <td>Go until jurong point, crazy.. Available only ...</td>\n",
       "      <td>NaN</td>\n",
       "      <td>NaN</td>\n",
       "      <td>NaN</td>\n",
       "    </tr>\n",
       "    <tr>\n",
       "      <th>1</th>\n",
       "      <td>ham</td>\n",
       "      <td>Ok lar... Joking wif u oni...</td>\n",
       "      <td>NaN</td>\n",
       "      <td>NaN</td>\n",
       "      <td>NaN</td>\n",
       "    </tr>\n",
       "    <tr>\n",
       "      <th>2</th>\n",
       "      <td>spam</td>\n",
       "      <td>Free entry in 2 a wkly comp to win FA Cup fina...</td>\n",
       "      <td>NaN</td>\n",
       "      <td>NaN</td>\n",
       "      <td>NaN</td>\n",
       "    </tr>\n",
       "    <tr>\n",
       "      <th>3</th>\n",
       "      <td>ham</td>\n",
       "      <td>U dun say so early hor... U c already then say...</td>\n",
       "      <td>NaN</td>\n",
       "      <td>NaN</td>\n",
       "      <td>NaN</td>\n",
       "    </tr>\n",
       "    <tr>\n",
       "      <th>4</th>\n",
       "      <td>ham</td>\n",
       "      <td>Nah I don't think he goes to usf, he lives aro...</td>\n",
       "      <td>NaN</td>\n",
       "      <td>NaN</td>\n",
       "      <td>NaN</td>\n",
       "    </tr>\n",
       "  </tbody>\n",
       "</table>\n",
       "</div>"
      ],
      "text/plain": [
       "     v1                                                 v2 Unnamed: 2  \\\n",
       "0   ham  Go until jurong point, crazy.. Available only ...        NaN   \n",
       "1   ham                      Ok lar... Joking wif u oni...        NaN   \n",
       "2  spam  Free entry in 2 a wkly comp to win FA Cup fina...        NaN   \n",
       "3   ham  U dun say so early hor... U c already then say...        NaN   \n",
       "4   ham  Nah I don't think he goes to usf, he lives aro...        NaN   \n",
       "\n",
       "  Unnamed: 3 Unnamed: 4  \n",
       "0        NaN        NaN  \n",
       "1        NaN        NaN  \n",
       "2        NaN        NaN  \n",
       "3        NaN        NaN  \n",
       "4        NaN        NaN  "
      ]
     },
     "execution_count": 52,
     "metadata": {},
     "output_type": "execute_result"
    }
   ],
   "source": [
    "df.head()"
   ]
  },
  {
   "cell_type": "code",
   "execution_count": 53,
   "id": "bd29969b",
   "metadata": {},
   "outputs": [
    {
     "data": {
      "text/html": [
       "<div>\n",
       "<style scoped>\n",
       "    .dataframe tbody tr th:only-of-type {\n",
       "        vertical-align: middle;\n",
       "    }\n",
       "\n",
       "    .dataframe tbody tr th {\n",
       "        vertical-align: top;\n",
       "    }\n",
       "\n",
       "    .dataframe thead th {\n",
       "        text-align: right;\n",
       "    }\n",
       "</style>\n",
       "<table border=\"1\" class=\"dataframe\">\n",
       "  <thead>\n",
       "    <tr style=\"text-align: right;\">\n",
       "      <th></th>\n",
       "      <th>v1</th>\n",
       "      <th>v2</th>\n",
       "      <th>Unnamed: 2</th>\n",
       "      <th>Unnamed: 3</th>\n",
       "      <th>Unnamed: 4</th>\n",
       "    </tr>\n",
       "  </thead>\n",
       "  <tbody>\n",
       "    <tr>\n",
       "      <th>5567</th>\n",
       "      <td>spam</td>\n",
       "      <td>This is the 2nd time we have tried 2 contact u...</td>\n",
       "      <td>NaN</td>\n",
       "      <td>NaN</td>\n",
       "      <td>NaN</td>\n",
       "    </tr>\n",
       "    <tr>\n",
       "      <th>5568</th>\n",
       "      <td>ham</td>\n",
       "      <td>Will Ì_ b going to esplanade fr home?</td>\n",
       "      <td>NaN</td>\n",
       "      <td>NaN</td>\n",
       "      <td>NaN</td>\n",
       "    </tr>\n",
       "    <tr>\n",
       "      <th>5569</th>\n",
       "      <td>ham</td>\n",
       "      <td>Pity, * was in mood for that. So...any other s...</td>\n",
       "      <td>NaN</td>\n",
       "      <td>NaN</td>\n",
       "      <td>NaN</td>\n",
       "    </tr>\n",
       "    <tr>\n",
       "      <th>5570</th>\n",
       "      <td>ham</td>\n",
       "      <td>The guy did some bitching but I acted like i'd...</td>\n",
       "      <td>NaN</td>\n",
       "      <td>NaN</td>\n",
       "      <td>NaN</td>\n",
       "    </tr>\n",
       "    <tr>\n",
       "      <th>5571</th>\n",
       "      <td>ham</td>\n",
       "      <td>Rofl. Its true to its name</td>\n",
       "      <td>NaN</td>\n",
       "      <td>NaN</td>\n",
       "      <td>NaN</td>\n",
       "    </tr>\n",
       "  </tbody>\n",
       "</table>\n",
       "</div>"
      ],
      "text/plain": [
       "        v1                                                 v2 Unnamed: 2  \\\n",
       "5567  spam  This is the 2nd time we have tried 2 contact u...        NaN   \n",
       "5568   ham              Will Ì_ b going to esplanade fr home?        NaN   \n",
       "5569   ham  Pity, * was in mood for that. So...any other s...        NaN   \n",
       "5570   ham  The guy did some bitching but I acted like i'd...        NaN   \n",
       "5571   ham                         Rofl. Its true to its name        NaN   \n",
       "\n",
       "     Unnamed: 3 Unnamed: 4  \n",
       "5567        NaN        NaN  \n",
       "5568        NaN        NaN  \n",
       "5569        NaN        NaN  \n",
       "5570        NaN        NaN  \n",
       "5571        NaN        NaN  "
      ]
     },
     "execution_count": 53,
     "metadata": {},
     "output_type": "execute_result"
    }
   ],
   "source": [
    "df.tail()"
   ]
  },
  {
   "cell_type": "code",
   "execution_count": 54,
   "id": "677c1cec",
   "metadata": {},
   "outputs": [
    {
     "data": {
      "text/plain": [
       "(5572, 5)"
      ]
     },
     "execution_count": 54,
     "metadata": {},
     "output_type": "execute_result"
    }
   ],
   "source": [
    "df.shape"
   ]
  },
  {
   "cell_type": "code",
   "execution_count": 55,
   "id": "69efda47",
   "metadata": {},
   "outputs": [
    {
     "name": "stdout",
     "output_type": "stream",
     "text": [
      "<class 'pandas.core.frame.DataFrame'>\n",
      "RangeIndex: 5572 entries, 0 to 5571\n",
      "Data columns (total 5 columns):\n",
      " #   Column      Non-Null Count  Dtype \n",
      "---  ------      --------------  ----- \n",
      " 0   v1          5572 non-null   object\n",
      " 1   v2          5572 non-null   object\n",
      " 2   Unnamed: 2  50 non-null     object\n",
      " 3   Unnamed: 3  12 non-null     object\n",
      " 4   Unnamed: 4  6 non-null      object\n",
      "dtypes: object(5)\n",
      "memory usage: 217.8+ KB\n"
     ]
    }
   ],
   "source": [
    "df.info()"
   ]
  },
  {
   "cell_type": "code",
   "execution_count": 56,
   "id": "27280c28",
   "metadata": {},
   "outputs": [
    {
     "data": {
      "text/html": [
       "<div>\n",
       "<style scoped>\n",
       "    .dataframe tbody tr th:only-of-type {\n",
       "        vertical-align: middle;\n",
       "    }\n",
       "\n",
       "    .dataframe tbody tr th {\n",
       "        vertical-align: top;\n",
       "    }\n",
       "\n",
       "    .dataframe thead th {\n",
       "        text-align: right;\n",
       "    }\n",
       "</style>\n",
       "<table border=\"1\" class=\"dataframe\">\n",
       "  <thead>\n",
       "    <tr style=\"text-align: right;\">\n",
       "      <th></th>\n",
       "      <th>v1</th>\n",
       "      <th>v2</th>\n",
       "      <th>Unnamed: 2</th>\n",
       "      <th>Unnamed: 3</th>\n",
       "      <th>Unnamed: 4</th>\n",
       "    </tr>\n",
       "  </thead>\n",
       "  <tbody>\n",
       "    <tr>\n",
       "      <th>count</th>\n",
       "      <td>5572</td>\n",
       "      <td>5572</td>\n",
       "      <td>50</td>\n",
       "      <td>12</td>\n",
       "      <td>6</td>\n",
       "    </tr>\n",
       "    <tr>\n",
       "      <th>unique</th>\n",
       "      <td>2</td>\n",
       "      <td>5169</td>\n",
       "      <td>43</td>\n",
       "      <td>10</td>\n",
       "      <td>5</td>\n",
       "    </tr>\n",
       "    <tr>\n",
       "      <th>top</th>\n",
       "      <td>ham</td>\n",
       "      <td>Sorry, I'll call later</td>\n",
       "      <td>bt not his girlfrnd... G o o d n i g h t . . .@\"</td>\n",
       "      <td>MK17 92H. 450Ppw 16\"</td>\n",
       "      <td>GNT:-)\"</td>\n",
       "    </tr>\n",
       "    <tr>\n",
       "      <th>freq</th>\n",
       "      <td>4825</td>\n",
       "      <td>30</td>\n",
       "      <td>3</td>\n",
       "      <td>2</td>\n",
       "      <td>2</td>\n",
       "    </tr>\n",
       "  </tbody>\n",
       "</table>\n",
       "</div>"
      ],
      "text/plain": [
       "          v1                      v2  \\\n",
       "count   5572                    5572   \n",
       "unique     2                    5169   \n",
       "top      ham  Sorry, I'll call later   \n",
       "freq    4825                      30   \n",
       "\n",
       "                                               Unnamed: 2  \\\n",
       "count                                                  50   \n",
       "unique                                                 43   \n",
       "top      bt not his girlfrnd... G o o d n i g h t . . .@\"   \n",
       "freq                                                    3   \n",
       "\n",
       "                   Unnamed: 3 Unnamed: 4  \n",
       "count                      12          6  \n",
       "unique                     10          5  \n",
       "top      MK17 92H. 450Ppw 16\"    GNT:-)\"  \n",
       "freq                        2          2  "
      ]
     },
     "execution_count": 56,
     "metadata": {},
     "output_type": "execute_result"
    }
   ],
   "source": [
    "df.describe()"
   ]
  },
  {
   "cell_type": "code",
   "execution_count": 57,
   "id": "226e1ef3",
   "metadata": {},
   "outputs": [
    {
     "data": {
      "text/plain": [
       "<bound method NDFrame.describe of         v1                                                 v2 Unnamed: 2  \\\n",
       "0      ham  Go until jurong point, crazy.. Available only ...        NaN   \n",
       "1      ham                      Ok lar... Joking wif u oni...        NaN   \n",
       "2     spam  Free entry in 2 a wkly comp to win FA Cup fina...        NaN   \n",
       "3      ham  U dun say so early hor... U c already then say...        NaN   \n",
       "4      ham  Nah I don't think he goes to usf, he lives aro...        NaN   \n",
       "...    ...                                                ...        ...   \n",
       "5567  spam  This is the 2nd time we have tried 2 contact u...        NaN   \n",
       "5568   ham              Will Ì_ b going to esplanade fr home?        NaN   \n",
       "5569   ham  Pity, * was in mood for that. So...any other s...        NaN   \n",
       "5570   ham  The guy did some bitching but I acted like i'd...        NaN   \n",
       "5571   ham                         Rofl. Its true to its name        NaN   \n",
       "\n",
       "     Unnamed: 3 Unnamed: 4  \n",
       "0           NaN        NaN  \n",
       "1           NaN        NaN  \n",
       "2           NaN        NaN  \n",
       "3           NaN        NaN  \n",
       "4           NaN        NaN  \n",
       "...         ...        ...  \n",
       "5567        NaN        NaN  \n",
       "5568        NaN        NaN  \n",
       "5569        NaN        NaN  \n",
       "5570        NaN        NaN  \n",
       "5571        NaN        NaN  \n",
       "\n",
       "[5572 rows x 5 columns]>"
      ]
     },
     "execution_count": 57,
     "metadata": {},
     "output_type": "execute_result"
    }
   ],
   "source": [
    "df.describe"
   ]
  },
  {
   "cell_type": "code",
   "execution_count": 58,
   "id": "8e25111b",
   "metadata": {},
   "outputs": [
    {
     "data": {
      "text/plain": [
       "v1               0\n",
       "v2               0\n",
       "Unnamed: 2    5522\n",
       "Unnamed: 3    5560\n",
       "Unnamed: 4    5566\n",
       "dtype: int64"
      ]
     },
     "execution_count": 58,
     "metadata": {},
     "output_type": "execute_result"
    }
   ],
   "source": [
    "df.isnull().sum()"
   ]
  },
  {
   "cell_type": "code",
   "execution_count": 59,
   "id": "76c104fb",
   "metadata": {},
   "outputs": [
    {
     "data": {
      "text/plain": [
       "Index(['v1', 'v2', 'Unnamed: 2', 'Unnamed: 3', 'Unnamed: 4'], dtype='object')"
      ]
     },
     "execution_count": 59,
     "metadata": {},
     "output_type": "execute_result"
    }
   ],
   "source": [
    "df.columns"
   ]
  },
  {
   "cell_type": "code",
   "execution_count": 60,
   "id": "a9172f1c",
   "metadata": {},
   "outputs": [
    {
     "name": "stdout",
     "output_type": "stream",
     "text": [
      "<class 'pandas.core.frame.DataFrame'>\n",
      "RangeIndex: 5572 entries, 0 to 5571\n",
      "Data columns (total 5 columns):\n",
      " #   Column      Non-Null Count  Dtype \n",
      "---  ------      --------------  ----- \n",
      " 0   v1          5572 non-null   object\n",
      " 1   v2          5572 non-null   object\n",
      " 2   Unnamed: 2  50 non-null     object\n",
      " 3   Unnamed: 3  12 non-null     object\n",
      " 4   Unnamed: 4  6 non-null      object\n",
      "dtypes: object(5)\n",
      "memory usage: 217.8+ KB\n"
     ]
    }
   ],
   "source": [
    "df.info()"
   ]
  },
  {
   "cell_type": "code",
   "execution_count": 61,
   "id": "01e5d4d8",
   "metadata": {},
   "outputs": [],
   "source": [
    "df.drop(['Unnamed: 2', 'Unnamed: 3', 'Unnamed: 4'], axis=1, inplace=True)"
   ]
  },
  {
   "cell_type": "code",
   "execution_count": 62,
   "id": "25c87283",
   "metadata": {},
   "outputs": [
    {
     "name": "stdout",
     "output_type": "stream",
     "text": [
      "<class 'pandas.core.frame.DataFrame'>\n",
      "RangeIndex: 5572 entries, 0 to 5571\n",
      "Data columns (total 2 columns):\n",
      " #   Column  Non-Null Count  Dtype \n",
      "---  ------  --------------  ----- \n",
      " 0   v1      5572 non-null   object\n",
      " 1   v2      5572 non-null   object\n",
      "dtypes: object(2)\n",
      "memory usage: 87.2+ KB\n"
     ]
    }
   ],
   "source": [
    "df.info()"
   ]
  },
  {
   "cell_type": "code",
   "execution_count": 63,
   "id": "5bf9a90d",
   "metadata": {},
   "outputs": [],
   "source": [
    "df.rename(columns={'v1':'Target', 'v2':'Mails'},inplace=True)"
   ]
  },
  {
   "cell_type": "code",
   "execution_count": 64,
   "id": "1787fbfb",
   "metadata": {},
   "outputs": [
    {
     "name": "stdout",
     "output_type": "stream",
     "text": [
      "<class 'pandas.core.frame.DataFrame'>\n",
      "RangeIndex: 5572 entries, 0 to 5571\n",
      "Data columns (total 2 columns):\n",
      " #   Column  Non-Null Count  Dtype \n",
      "---  ------  --------------  ----- \n",
      " 0   Target  5572 non-null   object\n",
      " 1   Mails   5572 non-null   object\n",
      "dtypes: object(2)\n",
      "memory usage: 87.2+ KB\n"
     ]
    }
   ],
   "source": [
    "df.info()"
   ]
  },
  {
   "cell_type": "code",
   "execution_count": 65,
   "id": "6f580fae",
   "metadata": {},
   "outputs": [
    {
     "data": {
      "text/plain": [
       "403"
      ]
     },
     "execution_count": 65,
     "metadata": {},
     "output_type": "execute_result"
    }
   ],
   "source": [
    "df.duplicated().sum()"
   ]
  },
  {
   "cell_type": "code",
   "execution_count": 66,
   "id": "599ef7b0",
   "metadata": {},
   "outputs": [],
   "source": [
    "df = df.drop_duplicates(keep = 'first')"
   ]
  },
  {
   "cell_type": "code",
   "execution_count": 67,
   "id": "ad6f25a2",
   "metadata": {},
   "outputs": [
    {
     "data": {
      "text/plain": [
       "0"
      ]
     },
     "execution_count": 67,
     "metadata": {},
     "output_type": "execute_result"
    }
   ],
   "source": [
    "df.duplicated().sum()"
   ]
  },
  {
   "cell_type": "code",
   "execution_count": 68,
   "id": "db942681",
   "metadata": {},
   "outputs": [
    {
     "data": {
      "text/plain": [
       "ham     4516\n",
       "spam     653\n",
       "Name: Target, dtype: int64"
      ]
     },
     "execution_count": 68,
     "metadata": {},
     "output_type": "execute_result"
    }
   ],
   "source": [
    "# Return a Series containing counts of unique values\n",
    "df.Target.value_counts()"
   ]
  },
  {
   "cell_type": "code",
   "execution_count": 69,
   "id": "c5f1c615",
   "metadata": {},
   "outputs": [
    {
     "data": {
      "text/html": [
       "<div>\n",
       "<style scoped>\n",
       "    .dataframe tbody tr th:only-of-type {\n",
       "        vertical-align: middle;\n",
       "    }\n",
       "\n",
       "    .dataframe tbody tr th {\n",
       "        vertical-align: top;\n",
       "    }\n",
       "\n",
       "    .dataframe thead th {\n",
       "        text-align: right;\n",
       "    }\n",
       "</style>\n",
       "<table border=\"1\" class=\"dataframe\">\n",
       "  <thead>\n",
       "    <tr style=\"text-align: right;\">\n",
       "      <th></th>\n",
       "      <th>Target</th>\n",
       "      <th>Mails</th>\n",
       "    </tr>\n",
       "  </thead>\n",
       "  <tbody>\n",
       "    <tr>\n",
       "      <th>0</th>\n",
       "      <td>ham</td>\n",
       "      <td>Go until jurong point, crazy.. Available only ...</td>\n",
       "    </tr>\n",
       "    <tr>\n",
       "      <th>1</th>\n",
       "      <td>ham</td>\n",
       "      <td>Ok lar... Joking wif u oni...</td>\n",
       "    </tr>\n",
       "    <tr>\n",
       "      <th>2</th>\n",
       "      <td>spam</td>\n",
       "      <td>Free entry in 2 a wkly comp to win FA Cup fina...</td>\n",
       "    </tr>\n",
       "    <tr>\n",
       "      <th>3</th>\n",
       "      <td>ham</td>\n",
       "      <td>U dun say so early hor... U c already then say...</td>\n",
       "    </tr>\n",
       "    <tr>\n",
       "      <th>4</th>\n",
       "      <td>ham</td>\n",
       "      <td>Nah I don't think he goes to usf, he lives aro...</td>\n",
       "    </tr>\n",
       "  </tbody>\n",
       "</table>\n",
       "</div>"
      ],
      "text/plain": [
       "  Target                                              Mails\n",
       "0    ham  Go until jurong point, crazy.. Available only ...\n",
       "1    ham                      Ok lar... Joking wif u oni...\n",
       "2   spam  Free entry in 2 a wkly comp to win FA Cup fina...\n",
       "3    ham  U dun say so early hor... U c already then say...\n",
       "4    ham  Nah I don't think he goes to usf, he lives aro..."
      ]
     },
     "execution_count": 69,
     "metadata": {},
     "output_type": "execute_result"
    }
   ],
   "source": [
    "df.head()"
   ]
  },
  {
   "cell_type": "markdown",
   "id": "ba9c0e0a",
   "metadata": {},
   "source": [
    "# Label Encoding\n",
    "\n",
    "Encoding the categorical data (Now we will change the text data into numerical data)"
   ]
  },
  {
   "cell_type": "code",
   "execution_count": 70,
   "id": "2acb2295",
   "metadata": {},
   "outputs": [
    {
     "name": "stderr",
     "output_type": "stream",
     "text": [
      "/var/folders/cv/b5wls1ns3wq1xwn7hx33_r480000gn/T/ipykernel_13538/608251128.py:1: SettingWithCopyWarning: \n",
      "A value is trying to be set on a copy of a slice from a DataFrame.\n",
      "Try using .loc[row_indexer,col_indexer] = value instead\n",
      "\n",
      "See the caveats in the documentation: https://pandas.pydata.org/pandas-docs/stable/user_guide/indexing.html#returning-a-view-versus-a-copy\n",
      "  df.replace({'Target' : {'spam' : 0, 'ham' : 1}}, inplace=True)\n"
     ]
    }
   ],
   "source": [
    "df.replace({'Target' : {'spam' : 0, 'ham' : 1}}, inplace=True)"
   ]
  },
  {
   "cell_type": "code",
   "execution_count": 71,
   "id": "f4275a19",
   "metadata": {},
   "outputs": [
    {
     "data": {
      "text/html": [
       "<div>\n",
       "<style scoped>\n",
       "    .dataframe tbody tr th:only-of-type {\n",
       "        vertical-align: middle;\n",
       "    }\n",
       "\n",
       "    .dataframe tbody tr th {\n",
       "        vertical-align: top;\n",
       "    }\n",
       "\n",
       "    .dataframe thead th {\n",
       "        text-align: right;\n",
       "    }\n",
       "</style>\n",
       "<table border=\"1\" class=\"dataframe\">\n",
       "  <thead>\n",
       "    <tr style=\"text-align: right;\">\n",
       "      <th></th>\n",
       "      <th>Target</th>\n",
       "      <th>Mails</th>\n",
       "    </tr>\n",
       "  </thead>\n",
       "  <tbody>\n",
       "    <tr>\n",
       "      <th>0</th>\n",
       "      <td>1</td>\n",
       "      <td>Go until jurong point, crazy.. Available only ...</td>\n",
       "    </tr>\n",
       "    <tr>\n",
       "      <th>1</th>\n",
       "      <td>1</td>\n",
       "      <td>Ok lar... Joking wif u oni...</td>\n",
       "    </tr>\n",
       "    <tr>\n",
       "      <th>2</th>\n",
       "      <td>0</td>\n",
       "      <td>Free entry in 2 a wkly comp to win FA Cup fina...</td>\n",
       "    </tr>\n",
       "    <tr>\n",
       "      <th>3</th>\n",
       "      <td>1</td>\n",
       "      <td>U dun say so early hor... U c already then say...</td>\n",
       "    </tr>\n",
       "    <tr>\n",
       "      <th>4</th>\n",
       "      <td>1</td>\n",
       "      <td>Nah I don't think he goes to usf, he lives aro...</td>\n",
       "    </tr>\n",
       "  </tbody>\n",
       "</table>\n",
       "</div>"
      ],
      "text/plain": [
       "   Target                                              Mails\n",
       "0       1  Go until jurong point, crazy.. Available only ...\n",
       "1       1                      Ok lar... Joking wif u oni...\n",
       "2       0  Free entry in 2 a wkly comp to win FA Cup fina...\n",
       "3       1  U dun say so early hor... U c already then say...\n",
       "4       1  Nah I don't think he goes to usf, he lives aro..."
      ]
     },
     "execution_count": 71,
     "metadata": {},
     "output_type": "execute_result"
    }
   ],
   "source": [
    "df.head()"
   ]
  },
  {
   "cell_type": "code",
   "execution_count": 72,
   "id": "bd43e040",
   "metadata": {},
   "outputs": [],
   "source": [
    "X = df['Mails']\n",
    "Y = df['Target']"
   ]
  },
  {
   "cell_type": "code",
   "execution_count": 73,
   "id": "0d86e734",
   "metadata": {},
   "outputs": [
    {
     "data": {
      "text/plain": [
       "0    Go until jurong point, crazy.. Available only ...\n",
       "1                        Ok lar... Joking wif u oni...\n",
       "2    Free entry in 2 a wkly comp to win FA Cup fina...\n",
       "3    U dun say so early hor... U c already then say...\n",
       "4    Nah I don't think he goes to usf, he lives aro...\n",
       "Name: Mails, dtype: object"
      ]
     },
     "execution_count": 73,
     "metadata": {},
     "output_type": "execute_result"
    }
   ],
   "source": [
    "X.head()"
   ]
  },
  {
   "cell_type": "code",
   "execution_count": 74,
   "id": "38b8bcdb",
   "metadata": {},
   "outputs": [
    {
     "data": {
      "text/plain": [
       "0    1\n",
       "1    1\n",
       "2    0\n",
       "3    1\n",
       "4    1\n",
       "Name: Target, dtype: int64"
      ]
     },
     "execution_count": 74,
     "metadata": {},
     "output_type": "execute_result"
    }
   ],
   "source": [
    "Y.head()"
   ]
  },
  {
   "cell_type": "code",
   "execution_count": 75,
   "id": "4a06122d",
   "metadata": {},
   "outputs": [],
   "source": [
    "X_train, X_test, Y_train, Y_test = train_test_split(X,Y, test_size=0.2,random_state = 3)\n"
   ]
  },
  {
   "cell_type": "code",
   "execution_count": 76,
   "id": "93c8a19e",
   "metadata": {},
   "outputs": [],
   "source": [
    "# print(\"X_train.shape : \",X_train.shape,\"\\nX_train.head : \",X_train.head())\n",
    "# print(\"\\nX_test.shape : \",X_test.shape,\"\\nX_test.head : \",X_test.head())\n",
    "# print(\"\\nX_train.shape : \",Y_train.shape,\"\\nY_train.head : \",Y_train.head())\n",
    "# print(\"\\nY_test.shape : \",Y_test.shape,\"\\nY_test.head : \",Y_test.head())"
   ]
  },
  {
   "cell_type": "code",
   "execution_count": 77,
   "id": "96903a2e",
   "metadata": {},
   "outputs": [
    {
     "data": {
      "text/plain": [
       "4443    1\n",
       "982     0\n",
       "3822    1\n",
       "3924    1\n",
       "4927    1\n",
       "Name: Target, dtype: int64"
      ]
     },
     "execution_count": 77,
     "metadata": {},
     "output_type": "execute_result"
    }
   ],
   "source": [
    "Y_train.head()"
   ]
  },
  {
   "cell_type": "code",
   "execution_count": 78,
   "id": "42591ddf",
   "metadata": {},
   "outputs": [
    {
     "data": {
      "text/plain": [
       "4443                       COME BACK TO TAMPA FFFFUUUUUUU\n",
       "982     Congrats! 2 mobile 3G Videophones R yours. cal...\n",
       "3822    Please protect yourself from e-threats. SIB ne...\n",
       "3924       As if i wasn't having enough trouble sleeping.\n",
       "4927    Just hopeing that wasnÛ÷t too pissed up to re...\n",
       "Name: Mails, dtype: object"
      ]
     },
     "execution_count": 78,
     "metadata": {},
     "output_type": "execute_result"
    }
   ],
   "source": [
    "X_train.head()"
   ]
  },
  {
   "cell_type": "code",
   "execution_count": 79,
   "id": "84b542d0",
   "metadata": {},
   "outputs": [
    {
     "data": {
      "text/plain": [
       "4994    Just looked it up and addie goes back Monday, ...\n",
       "4292    You best watch what you say cause I get drunk ...\n",
       "4128                 Me i'm not workin. Once i get job...\n",
       "4429          Yar lor... How u noe? U used dat route too?\n",
       "660     Under the sea, there lays a rock. In the rock,...\n",
       "Name: Mails, dtype: object"
      ]
     },
     "execution_count": 79,
     "metadata": {},
     "output_type": "execute_result"
    }
   ],
   "source": [
    "X_test.head()"
   ]
  },
  {
   "cell_type": "code",
   "execution_count": 80,
   "id": "d041f5cd",
   "metadata": {},
   "outputs": [
    {
     "data": {
      "text/plain": [
       "4443    1\n",
       "982     0\n",
       "3822    1\n",
       "3924    1\n",
       "4927    1\n",
       "Name: Target, dtype: int64"
      ]
     },
     "execution_count": 80,
     "metadata": {},
     "output_type": "execute_result"
    }
   ],
   "source": [
    "Y_train.head()"
   ]
  },
  {
   "cell_type": "code",
   "execution_count": 81,
   "id": "998966ae",
   "metadata": {},
   "outputs": [
    {
     "data": {
      "text/plain": [
       "4994    1\n",
       "4292    1\n",
       "4128    1\n",
       "4429    1\n",
       "660     1\n",
       "Name: Target, dtype: int64"
      ]
     },
     "execution_count": 81,
     "metadata": {},
     "output_type": "execute_result"
    }
   ],
   "source": [
    "Y_test.head()"
   ]
  },
  {
   "cell_type": "markdown",
   "id": "ec5529a9",
   "metadata": {},
   "source": [
    "# Feature Extraction\n",
    "Transform the text data into feature vectors that can be used as input to the logistic regression regression model"
   ]
  },
  {
   "cell_type": "code",
   "execution_count": 82,
   "id": "ac2298fd",
   "metadata": {},
   "outputs": [],
   "source": [
    "feature_extraction = TfidfVectorizer(min_df=1, stop_words='english', lowercase='True')"
   ]
  },
  {
   "cell_type": "code",
   "execution_count": 83,
   "id": "d24d1504",
   "metadata": {},
   "outputs": [],
   "source": [
    "#Convert X_train, X_test to idf values (inverse document frequency)\n",
    "\n",
    "# Inverse Document Frequency (IDF) is a way of measuring how important a word is in a collection of documents\n",
    "# For example, the word \"the\" is very common in most documents, so it has a low IDF score. But \n",
    "# the word \"algorithm\" is more rare, so it has a higher IDF score.\n",
    "\n",
    "\n",
    "#Learn vocabulary and idf, return document-term matrix.\n",
    "X_train_features = feature_extraction.fit_transform(X_train)\n",
    "# Transform documents to document-term matrix.\n",
    "X_test_features = feature_extraction.transform(X_test)\n"
   ]
  },
  {
   "cell_type": "code",
   "execution_count": 84,
   "id": "236ddbb4",
   "metadata": {},
   "outputs": [],
   "source": [
    "#convert Y_train, Y_test values as integer\n",
    "\n",
    "Y_train = Y_train.astype('int')\n",
    "Y_test = Y_test.astype('int')"
   ]
  },
  {
   "cell_type": "code",
   "execution_count": 85,
   "id": "2d186683",
   "metadata": {},
   "outputs": [
    {
     "data": {
      "text/plain": [
       "4443                       COME BACK TO TAMPA FFFFUUUUUUU\n",
       "982     Congrats! 2 mobile 3G Videophones R yours. cal...\n",
       "3822    Please protect yourself from e-threats. SIB ne...\n",
       "3924       As if i wasn't having enough trouble sleeping.\n",
       "4927    Just hopeing that wasnÛ÷t too pissed up to re...\n",
       "Name: Mails, dtype: object"
      ]
     },
     "execution_count": 85,
     "metadata": {},
     "output_type": "execute_result"
    }
   ],
   "source": [
    "X_train.head()"
   ]
  },
  {
   "cell_type": "code",
   "execution_count": 86,
   "id": "36e34afc",
   "metadata": {},
   "outputs": [
    {
     "name": "stdout",
     "output_type": "stream",
     "text": [
      "X_train_features : \n",
      "\n",
      "  (0, 2697)\t0.7205755344386542\n",
      "  (0, 6409)\t0.5950532917415522\n",
      "  (0, 1825)\t0.35592482233751443\n",
      "  (1, 5438)\t0.27399320458839144\n",
      "  (1, 4583)\t0.27399320458839144\n",
      "  (1, 4438)\t0.22516921191243092\n",
      "  (1, 5036)\t0.27399320458839144\n",
      "  (1, 2274)\t0.27399320458839144\n",
      "  (1, 2920)\t0.23390504161994488\n",
      "  (1, 3610)\t0.27399320458839144\n",
      "  (1, 4984)\t0.19732502227978832\n",
      "  (1, 4180)\t0.23390504161994488\n",
      "  (1, 7137)\t0.24133495616477563\n",
      "  (1, 6940)\t0.27399320458839144\n",
      "  (1, 203)\t0.27399320458839144\n",
      "  (1, 6941)\t0.27399320458839144\n",
      "  (1, 453)\t0.25698446420786897\n",
      "  (1, 4333)\t0.15929709793058355\n",
      "  (1, 1885)\t0.22516921191243092\n",
      "  (2, 953)\t0.26160275768603725\n",
      "  (2, 4856)\t0.26160275768603725\n",
      "  (2, 5786)\t0.26160275768603725\n",
      "  (2, 2459)\t0.22436535516409714\n",
      "  (2, 4960)\t0.26160275768603725\n",
      "  (2, 5976)\t0.1902832473629628\n",
      "  :\t:\n",
      "  (4132, 6862)\t0.11085392369947865\n",
      "  (4132, 5612)\t0.14854309693836068\n",
      "  (4132, 3865)\t0.16898098428277844\n",
      "  (4133, 6457)\t0.6154177820886059\n",
      "  (4133, 5320)\t0.5530764956488926\n",
      "  (4133, 2311)\t0.4238274869992768\n",
      "  (4133, 3771)\t0.36842584696755415\n",
      "  (4134, 4632)\t0.2852228597337175\n",
      "  (4134, 3508)\t0.2852228597337175\n",
      "  (4134, 5982)\t0.2623257437582278\n",
      "  (4134, 3585)\t0.2718289055133927\n",
      "  (4134, 6095)\t0.2623257437582278\n",
      "  (4134, 4980)\t0.24893178953790301\n",
      "  (4134, 1608)\t0.22890896872799293\n",
      "  (4134, 5751)\t0.21866344863800888\n",
      "  (4134, 6383)\t0.24893178953790301\n",
      "  (4134, 3967)\t0.23205740285833368\n",
      "  (4134, 2297)\t0.23205740285833368\n",
      "  (4134, 6596)\t0.2355378353175782\n",
      "  (4134, 5998)\t0.2549545188338234\n",
      "  (4134, 7181)\t0.20454345297905668\n",
      "  (4134, 1923)\t0.19363439583175862\n",
      "  (4134, 1571)\t0.18164633700356694\n",
      "  (4134, 4068)\t0.20454345297905668\n",
      "  (4134, 3038)\t0.13885722635220862\n"
     ]
    }
   ],
   "source": [
    "print(f\"X_train_features : \\n\\n{X_train_features}\")"
   ]
  },
  {
   "cell_type": "markdown",
   "id": "da95cdf2",
   "metadata": {},
   "source": [
    "# Training the Model\n",
    "\n",
    "Logistic Regression"
   ]
  },
  {
   "cell_type": "code",
   "execution_count": 87,
   "id": "f6c00648",
   "metadata": {},
   "outputs": [],
   "source": [
    "Model = LogisticRegression()"
   ]
  },
  {
   "cell_type": "code",
   "execution_count": 88,
   "id": "67883eeb",
   "metadata": {},
   "outputs": [
    {
     "data": {
      "text/plain": [
       "LogisticRegression()"
      ]
     },
     "execution_count": 88,
     "metadata": {},
     "output_type": "execute_result"
    }
   ],
   "source": [
    "Model.fit(X_train_features,Y_train)"
   ]
  },
  {
   "cell_type": "markdown",
   "id": "ec5d7175",
   "metadata": {},
   "source": [
    "# Model Evaluation\n",
    "Predition on Training data"
   ]
  },
  {
   "cell_type": "code",
   "execution_count": 89,
   "id": "c09e4ac0",
   "metadata": {},
   "outputs": [
    {
     "data": {
      "text/plain": [
       "array([1, 1, 1, ..., 1, 1, 1])"
      ]
     },
     "execution_count": 89,
     "metadata": {},
     "output_type": "execute_result"
    }
   ],
   "source": [
    "# Predition on Training data\n",
    "Training_data_Model_prediction = Model.predict(X_train_features)\n",
    "Training_data_Model_prediction"
   ]
  },
  {
   "cell_type": "code",
   "execution_count": 90,
   "id": "191193bc",
   "metadata": {},
   "outputs": [
    {
     "name": "stdout",
     "output_type": "stream",
     "text": [
      "Accuracy on training data :  96.23\n"
     ]
    }
   ],
   "source": [
    "# Finding the accuracy of the training data\n",
    "acc_score_for_training_data = accuracy_score(Y_train,Training_data_Model_prediction)\n",
    "print(\"Accuracy on training data : \",round(acc_score_for_training_data*100, 2))"
   ]
  },
  {
   "cell_type": "markdown",
   "id": "e86b8b84",
   "metadata": {},
   "source": [
    "Prediction on Testing data"
   ]
  },
  {
   "cell_type": "code",
   "execution_count": 91,
   "id": "20e43673",
   "metadata": {},
   "outputs": [
    {
     "data": {
      "text/plain": [
       "array([1, 1, 1, ..., 1, 0, 1])"
      ]
     },
     "execution_count": 91,
     "metadata": {},
     "output_type": "execute_result"
    }
   ],
   "source": [
    "# Predition on Training data\n",
    "Testing_data_Model_prediction = Model.predict(X_test_features)\n",
    "Testing_data_Model_prediction"
   ]
  },
  {
   "cell_type": "code",
   "execution_count": 92,
   "id": "ddb83c73",
   "metadata": {},
   "outputs": [
    {
     "name": "stdout",
     "output_type": "stream",
     "text": [
      "Accuracy on training data :  96.03\n"
     ]
    }
   ],
   "source": [
    "# Finding the accuracy of the training data\n",
    "acc_score_for_testing_data = accuracy_score(Y_test,Testing_data_Model_prediction)\n",
    "print(\"Accuracy on training data : \",round(acc_score_for_testing_data*100, 2))"
   ]
  },
  {
   "cell_type": "markdown",
   "id": "5e0de69f",
   "metadata": {},
   "source": [
    "Hence the conclusion is Accuracy Score of training and testing data is similar to each other"
   ]
  },
  {
   "cell_type": "markdown",
   "id": "c9d4e422",
   "metadata": {},
   "source": [
    "# Building a Predicitve System"
   ]
  },
  {
   "cell_type": "code",
   "execution_count": 93,
   "id": "e5eb401a",
   "metadata": {},
   "outputs": [],
   "source": [
    "input_mail = [\"I've been searching for the right words to thank you for this breather. I promise i wont take your help for granted and will fulfil my promise. You have been wonderful and a blessing at all times.,,,\"]\n"
   ]
  },
  {
   "cell_type": "code",
   "execution_count": 94,
   "id": "09c08ff3",
   "metadata": {},
   "outputs": [
    {
     "name": "stdout",
     "output_type": "stream",
     "text": [
      "[1]\n",
      "This is a HAM mail\n"
     ]
    }
   ],
   "source": [
    "# Convert this text into feature vectors \n",
    "input_mail_features = feature_extraction.transform(input_mail)\n",
    "\n",
    "# Making Predictions\n",
    "predicition = Model.predict(input_mail_features)\n",
    "print(predicition)\n",
    "if predicition==[1]:\n",
    "    print(\"This is a HAM mail\")\n",
    "else:\n",
    "    print(\"This is a SPAM mail\")"
   ]
  },
  {
   "cell_type": "code",
   "execution_count": 95,
   "id": "5871335c",
   "metadata": {},
   "outputs": [],
   "source": [
    "input_mail = [\"Free entry in 2 a wkly comp to win FA Cup final tkts 21st May 2005. Text FA to 87121 to receive entry question(std txt rate)T&C's apply 08452810075over18's\"]"
   ]
  },
  {
   "cell_type": "code",
   "execution_count": 96,
   "id": "36810018",
   "metadata": {},
   "outputs": [
    {
     "name": "stdout",
     "output_type": "stream",
     "text": [
      "[0]\n",
      "This is a SPAM mail\n"
     ]
    }
   ],
   "source": [
    "# Convert this text into feature vectors \n",
    "input_mail_features = feature_extraction.transform(input_mail)\n",
    "\n",
    "# Making Predictions\n",
    "predicition = Model.predict(input_mail_features)\n",
    "print(predicition)\n",
    "if predicition==[1]:\n",
    "    print(\"This is a HAM mail\")\n",
    "else:\n",
    "    print(\"This is a SPAM mail\")"
   ]
  },
  {
   "cell_type": "code",
   "execution_count": null,
   "id": "e5862a68",
   "metadata": {},
   "outputs": [],
   "source": []
  },
  {
   "cell_type": "code",
   "execution_count": 97,
   "id": "382c5fbb",
   "metadata": {},
   "outputs": [
    {
     "ename": "SyntaxError",
     "evalue": "invalid syntax (2169910179.py, line 1)",
     "output_type": "error",
     "traceback": [
      "\u001b[0;36m  Input \u001b[0;32mIn [97]\u001b[0;36m\u001b[0m\n\u001b[0;31m    Thank you\u001b[0m\n\u001b[0m          ^\u001b[0m\n\u001b[0;31mSyntaxError\u001b[0m\u001b[0;31m:\u001b[0m invalid syntax\n"
     ]
    }
   ],
   "source": [
    "Thank you"
   ]
  },
  {
   "cell_type": "code",
   "execution_count": null,
   "id": "46deb8b2",
   "metadata": {},
   "outputs": [],
   "source": []
  }
 ],
 "metadata": {
  "kernelspec": {
   "display_name": "Python 3 (ipykernel)",
   "language": "python",
   "name": "python3"
  },
  "language_info": {
   "codemirror_mode": {
    "name": "ipython",
    "version": 3
   },
   "file_extension": ".py",
   "mimetype": "text/x-python",
   "name": "python",
   "nbconvert_exporter": "python",
   "pygments_lexer": "ipython3",
   "version": "3.9.7"
  }
 },
 "nbformat": 4,
 "nbformat_minor": 5
}
